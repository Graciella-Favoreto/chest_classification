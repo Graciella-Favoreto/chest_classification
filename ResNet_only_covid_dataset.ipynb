{
 "cells": [
  {
   "cell_type": "code",
   "execution_count": null,
   "id": "af99de26",
   "metadata": {},
   "outputs": [
    {
     "name": "stdout",
     "output_type": "stream",
     "text": [
      "Semente definida para 42.\n",
      "Usando dispositivo: cuda\n"
     ]
    }
   ],
   "source": [
    "import os\n",
    "import random\n",
    "import torch\n",
    "import torchvision.transforms as transforms\n",
    "from torchvision.datasets import ImageFolder\n",
    "from torch.utils.data import DataLoader, random_split\n",
    "import torch.nn as nn\n",
    "import torch.optim as optim\n",
    "import torchvision.models as models\n",
    "import matplotlib.pyplot as plt\n",
    "import numpy as np\n",
    "from sklearn.metrics import classification_report, confusion_matrix\n",
    "import seaborn as sns\n",
    "import shutil\n",
    "import optuna\n",
    "\n",
    "# --- Configuração Inicial da Semente Aleatória ---\n",
    "SEED = 42\n",
    "\n",
    "def set_seed(seed):\n",
    "    \"\"\"Define a semente para reprodutibilidade.\"\"\"\n",
    "    random.seed(seed)\n",
    "    np.random.seed(seed)\n",
    "    torch.manual_seed(seed)\n",
    "    if torch.cuda.is_available():\n",
    "        torch.cuda.manual_seed(seed)\n",
    "        torch.cuda.manual_seed_all(seed)\n",
    "        torch.backends.cudnn.deterministic = True\n",
    "        torch.backends.cudnn.benchmark = False\n",
    "    os.environ[\"PYTHONHASHSEED\"] = str(seed)\n",
    "    print(f\"Semente definida para {seed}.\")\n",
    "\n",
    "set_seed(SEED)\n",
    "device = torch.device(\"cuda\" if torch.cuda.is_available() else \"cpu\")\n",
    "print(f\"Usando dispositivo: {device}\")"
   ]
  },
  {
   "cell_type": "markdown",
   "id": "56e2094d",
   "metadata": {},
   "source": [
    "#### Data Preprocessing & Augmentation"
   ]
  },
  {
   "cell_type": "code",
   "execution_count": 4,
   "id": "390a3103",
   "metadata": {},
   "outputs": [
    {
     "name": "stdout",
     "output_type": "stream",
     "text": [
      "✅ Dataset structured successfully!\n"
     ]
    }
   ],
   "source": [
    "dataset_path = \"./COVID-19_Radiography_Dataset\"\n",
    "structured_dataset = \"./structured_dataset\"\n",
    "\n",
    "# Estruturacao de dataset\n",
    "def create_image_dataset(source_dir, target_dir):\n",
    "    if not os.path.exists(target_dir):\n",
    "        os.makedirs(target_dir)\n",
    "\n",
    "    classes = [\"COVID\", \"Normal\", \"Viral Pneumonia\", \"Lung_Opacity\"]\n",
    "\n",
    "    for cls in classes:\n",
    "        src_folder = os.path.join(source_dir, cls, \"images\")  # pasta original\n",
    "        dst_folder = os.path.join(target_dir, cls)  # pasta estruturada\n",
    "\n",
    "        os.makedirs(dst_folder, exist_ok=True)\n",
    "\n",
    "        for img in os.listdir(src_folder):\n",
    "            src_path = os.path.join(src_folder, img)\n",
    "            dst_path = os.path.join(dst_folder, img)\n",
    "            shutil.copy(src_path, dst_path)  \n",
    "\n",
    "create_image_dataset(dataset_path, structured_dataset)\n",
    "\n",
    "print(\"✅ Dataset structured successfully!\")"
   ]
  },
  {
   "cell_type": "code",
   "execution_count": 5,
   "id": "72242923",
   "metadata": {},
   "outputs": [],
   "source": [
    "transform = transforms.Compose([\n",
    "    transforms.Resize((224, 224)),  # Redimensionar para padronizar com ResNet\n",
    "    transforms.RandomRotation(10),  # Rotacionar imagens\n",
    "    transforms.RandomHorizontalFlip(p=0.5),  # Inverter horizontalmente\n",
    "    transforms.ToTensor(),  # Converter para tensor\n",
    "    transforms.Normalize([0.485, 0.456, 0.406], [0.229, 0.224, 0.225])  # Normalizar com médias e desvios padrão do ImageNet\n",
    "])\n",
    "\n",
    "# Carregar o dataset estruturado\n",
    "dataset = ImageFolder(root=structured_dataset, transform=transform)"
   ]
  },
  {
   "cell_type": "markdown",
   "id": "769e4bde",
   "metadata": {},
   "source": [
    "#### Train, Validation, Test Split"
   ]
  },
  {
   "cell_type": "code",
   "execution_count": 8,
   "id": "13bd21d4",
   "metadata": {},
   "outputs": [
    {
     "name": "stdout",
     "output_type": "stream",
     "text": [
      "Tamanhos dos conjuntos -> Treino: 14815, Validação: 3174, Teste: 3176\n",
      "Classes treino: {'Normal': 7134, 'Lung_Opacity': 4189, 'COVID': 2542, 'Viral Pneumonia': 950}\n",
      "Classes validação: {'Lung_Opacity': 893, 'Normal': 1536, 'Viral Pneumonia': 199, 'COVID': 546}\n",
      "Classes teste: {'Viral Pneumonia': 196, 'COVID': 528, 'Lung_Opacity': 930, 'Normal': 1522}\n"
     ]
    }
   ],
   "source": [
    "train_size = int(0.7 * len(dataset))  # 70% Train\n",
    "val_size = int(0.15 * len(dataset))   # 15% Val\n",
    "test_size = len(dataset) - train_size - val_size  # 15% Test\n",
    "\n",
    "train_dataset, val_dataset, test_dataset = random_split(dataset, [train_size, val_size, test_size])\n",
    "print(f\"Tamanhos dos conjuntos -> Treino: {len(train_dataset)}, Validação: {len(val_dataset)}, Teste: {len(test_dataset)}\")\n",
    "\n",
    "# Quantidade por classes\n",
    "def count_classes(subset):\n",
    "    class_counts = {}\n",
    "    for _, label in subset:\n",
    "        class_name = dataset.classes[label]\n",
    "        if class_name in class_counts:\n",
    "            class_counts[class_name] += 1\n",
    "        else:\n",
    "            class_counts[class_name] = 1\n",
    "    return class_counts\n",
    "\n",
    "train_counts = count_classes(train_dataset)\n",
    "val_counts = count_classes(val_dataset)\n",
    "test_counts = count_classes(test_dataset)\n",
    "print(f\"Classes treino: {train_counts}\")\n",
    "print(f\"Classes validação: {val_counts}\")\n",
    "print(f\"Classes teste: {test_counts}\")"
   ]
  },
  {
   "cell_type": "markdown",
   "id": "ad385d56",
   "metadata": {},
   "source": [
    "##### Optimization com Optuna"
   ]
  },
  {
   "cell_type": "code",
   "execution_count": null,
   "id": "35d1e92c",
   "metadata": {},
   "outputs": [],
   "source": [
    "def objective(trial):\n",
    "    # Hiperparâmetros testados pelo Optuna\n",
    "    optimizer_name = trial.suggest_categorical(\"optimizer\", [\"Adam\", \"RMSprop\", \"SGD\"])\n",
    "    lr = trial.suggest_float(\"lr\", 1e-5, 1e-1, log=True)\n",
    "    batch_size = trial.suggest_categorical(\"batch_size\", [32, 64, 128])\n",
    "    \n",
    "    print(f\"\\n--- Começando Trial {trial.number} ---\")\n",
    "    print(f\"  Parâmetros: Otimizador={optimizer_name}, LR={lr:.6f}, Batch Size={batch_size}\")\n",
    "    \n",
    "    # Criação dos DataLoaders, Modelo e Otimizador para este trial\n",
    "    # DataLoaders precisam ser recriados pois o batch_size muda a cada trial\n",
    "    train_loader = DataLoader(train_dataset, batch_size=batch_size, shuffle=True)\n",
    "    val_loader = DataLoader(val_dataset, batch_size=batch_size, shuffle=False)\n",
    "\n",
    "    # Definir o modelo (uma nova instância para cada trial)\n",
    "    model = models.resnet50(weights='IMAGENET1K_V1')\n",
    "    num_ftrs = model.fc.in_features\n",
    "    model.fc = nn.Linear(num_ftrs, 4)\n",
    "    model = model.to(device)\n",
    "\n",
    "    # Definir o otimizador com os parâmetros sugeridos\n",
    "    if optimizer_name == \"Adam\":\n",
    "        optimizer = optim.Adam(model.parameters(), lr=lr)\n",
    "    elif optimizer_name == \"RMSprop\":\n",
    "        optimizer = optim.RMSprop(model.parameters(), lr=lr)\n",
    "    else:\n",
    "        optimizer = optim.SGD(model.parameters(), lr=lr, momentum=0.9)\n",
    "        \n",
    "    criterion = nn.CrossEntropyLoss()\n",
    "    \n",
    "    num_epochs = 10 # epocas fixas para comparar os hiperparâmetros\n",
    "    \n",
    "    for epoch in range(num_epochs):\n",
    "        model.train()\n",
    "        for images, labels in train_loader:\n",
    "            images, labels = images.to(device), labels.to(device)\n",
    "            optimizer.zero_grad()\n",
    "            outputs = model(images)\n",
    "            loss = criterion(outputs, labels)\n",
    "            loss.backward()\n",
    "            optimizer.step()\n",
    "            \n",
    "        # Avaliação no conjunto de validação após cada época\n",
    "        model.eval()\n",
    "        correct = 0\n",
    "        total = 0\n",
    "        with torch.no_grad():\n",
    "            for images, labels in val_loader:\n",
    "                images, labels = images.to(device), labels.to(device)\n",
    "                outputs = model(images)\n",
    "                _, predicted = torch.max(outputs.data, 1)\n",
    "                total += labels.size(0)\n",
    "                correct += (predicted == labels).sum().item()\n",
    "        \n",
    "        val_accuracy = 100 * correct / total\n",
    "        print(f\"  Trial {trial.number}, Época {epoch+1}/{num_epochs}, Acurácia de Validação: {val_accuracy:.2f}%\")\n",
    "        \n",
    "        # Reporta o resultado intermediário para \"pruning\"\n",
    "        trial.report(val_accuracy, epoch)\n",
    "\n",
    "        # Verifica se o trial deve ser interrompido (pruned)\n",
    "        if trial.should_prune():\n",
    "            raise optuna.exceptions.TrialPruned()\n",
    "\n",
    "    return val_accuracy # Retorna a métrica final (acurácia da última época) para o Optuna"
   ]
  },
  {
   "cell_type": "code",
   "execution_count": null,
   "id": "4cf6d062",
   "metadata": {},
   "outputs": [],
   "source": [
    "# Criamos um \"estudo\" do Optuna. O objetivo é maximizar a acurácia.\n",
    "study = optuna.create_study(direction=\"maximize\", pruner=optuna.pruners.MedianPruner())\n",
    "\n",
    "# Iniciamos a otimização. O número de trials pode ser ajustado conforme necessário.\n",
    "study.optimize(objective, n_trials=20) \n",
    "\n",
    "print(\"\\nOtimização concluída!\")\n",
    "print(\"Melhor trial:\")\n",
    "trial = study.best_trial\n",
    "\n",
    "print(f\"  Valor (Acurácia de Validação): {trial.value:.2f}%\")\n",
    "print(\"  Melhores Hiperparâmetros: \")\n",
    "for key, value in trial.params.items():\n",
    "    print(f\"    {key}: {value}\")"
   ]
  },
  {
   "cell_type": "code",
   "execution_count": null,
   "id": "55d5c843",
   "metadata": {},
   "outputs": [
    {
     "name": "stderr",
     "output_type": "stream",
     "text": [
      "[I 2025-06-29 14:51:01,980] A new study created in memory with name: no-name-377a2f0e-60c6-40a2-ba9c-d6f991951c98\n"
     ]
    },
    {
     "name": "stdout",
     "output_type": "stream",
     "text": [
      "\n",
      "--- Começando Trial 0 ---\n",
      "  Parâmetros: Otimizador=RMSprop, LR=0.000018, Batch Size=128\n",
      "  Trial 0, Época 1/10, Acurácia de Validação: 92.82%\n",
      "  Trial 0, Época 2/10, Acurácia de Validação: 93.67%\n",
      "  Trial 0, Época 3/10, Acurácia de Validação: 93.79%\n",
      "  Trial 0, Época 4/10, Acurácia de Validação: 94.33%\n",
      "  Trial 0, Época 5/10, Acurácia de Validação: 94.23%\n",
      "  Trial 0, Época 6/10, Acurácia de Validação: 94.52%\n",
      "  Trial 0, Época 7/10, Acurácia de Validação: 94.74%\n",
      "  Trial 0, Época 8/10, Acurácia de Validação: 92.88%\n",
      "  Trial 0, Época 9/10, Acurácia de Validação: 95.02%\n"
     ]
    },
    {
     "name": "stderr",
     "output_type": "stream",
     "text": [
      "[I 2025-06-29 15:03:12,130] Trial 0 finished with value: 93.79332073093887 and parameters: {'optimizer': 'RMSprop', 'lr': 1.8447329072292322e-05, 'batch_size': 128}. Best is trial 0 with value: 93.79332073093887.\n"
     ]
    },
    {
     "name": "stdout",
     "output_type": "stream",
     "text": [
      "  Trial 0, Época 10/10, Acurácia de Validação: 93.79%\n",
      "\n",
      "--- Começando Trial 1 ---\n",
      "  Parâmetros: Otimizador=RMSprop, LR=0.001573, Batch Size=64\n",
      "  Trial 1, Época 1/10, Acurácia de Validação: 54.28%\n",
      "  Trial 1, Época 2/10, Acurácia de Validação: 54.10%\n",
      "  Trial 1, Época 3/10, Acurácia de Validação: 55.99%\n",
      "  Trial 1, Época 4/10, Acurácia de Validação: 78.61%\n",
      "  Trial 1, Época 5/10, Acurácia de Validação: 81.92%\n",
      "  Trial 1, Época 6/10, Acurácia de Validação: 86.39%\n",
      "  Trial 1, Época 7/10, Acurácia de Validação: 64.78%\n",
      "  Trial 1, Época 8/10, Acurácia de Validação: 74.61%\n",
      "  Trial 1, Época 9/10, Acurácia de Validação: 87.02%\n"
     ]
    },
    {
     "name": "stderr",
     "output_type": "stream",
     "text": [
      "[I 2025-06-29 15:15:20,315] Trial 1 finished with value: 89.54001260239446 and parameters: {'optimizer': 'RMSprop', 'lr': 0.0015727873351426376, 'batch_size': 64}. Best is trial 0 with value: 93.79332073093887.\n"
     ]
    },
    {
     "name": "stdout",
     "output_type": "stream",
     "text": [
      "  Trial 1, Época 10/10, Acurácia de Validação: 89.54%\n",
      "\n",
      "--- Começando Trial 2 ---\n",
      "  Parâmetros: Otimizador=SGD, LR=0.080722, Batch Size=32\n",
      "  Trial 2, Época 1/10, Acurácia de Validação: 56.02%\n",
      "  Trial 2, Época 2/10, Acurácia de Validação: 69.69%\n",
      "  Trial 2, Época 3/10, Acurácia de Validação: 75.96%\n",
      "  Trial 2, Época 4/10, Acurácia de Validação: 77.50%\n",
      "  Trial 2, Época 5/10, Acurácia de Validação: 83.71%\n",
      "  Trial 2, Época 6/10, Acurácia de Validação: 71.39%\n",
      "  Trial 2, Época 7/10, Acurácia de Validação: 83.52%\n",
      "  Trial 2, Época 8/10, Acurácia de Validação: 87.71%\n",
      "  Trial 2, Época 9/10, Acurácia de Validação: 84.50%\n"
     ]
    },
    {
     "name": "stderr",
     "output_type": "stream",
     "text": [
      "[I 2025-06-29 15:27:53,940] Trial 2 finished with value: 87.74417139256458 and parameters: {'optimizer': 'SGD', 'lr': 0.0807220598196529, 'batch_size': 32}. Best is trial 0 with value: 93.79332073093887.\n"
     ]
    },
    {
     "name": "stdout",
     "output_type": "stream",
     "text": [
      "  Trial 2, Época 10/10, Acurácia de Validação: 87.74%\n",
      "\n",
      "--- Começando Trial 3 ---\n",
      "  Parâmetros: Otimizador=RMSprop, LR=0.000021, Batch Size=64\n",
      "  Trial 3, Época 1/10, Acurácia de Validação: 92.85%\n",
      "  Trial 3, Época 2/10, Acurácia de Validação: 93.23%\n",
      "  Trial 3, Época 3/10, Acurácia de Validação: 94.36%\n",
      "  Trial 3, Época 4/10, Acurácia de Validação: 93.95%\n",
      "  Trial 3, Época 5/10, Acurácia de Validação: 94.74%\n",
      "  Trial 3, Época 6/10, Acurácia de Validação: 94.93%\n",
      "  Trial 3, Época 7/10, Acurácia de Validação: 94.64%\n",
      "  Trial 3, Época 8/10, Acurácia de Validação: 93.95%\n",
      "  Trial 3, Época 9/10, Acurácia de Validação: 94.83%\n"
     ]
    },
    {
     "name": "stderr",
     "output_type": "stream",
     "text": [
      "[I 2025-06-29 15:39:42,996] Trial 3 finished with value: 94.20289855072464 and parameters: {'optimizer': 'RMSprop', 'lr': 2.0547793819970652e-05, 'batch_size': 64}. Best is trial 3 with value: 94.20289855072464.\n"
     ]
    },
    {
     "name": "stdout",
     "output_type": "stream",
     "text": [
      "  Trial 3, Época 10/10, Acurácia de Validação: 94.20%\n",
      "\n",
      "--- Começando Trial 4 ---\n",
      "  Parâmetros: Otimizador=Adam, LR=0.024043, Batch Size=128\n",
      "  Trial 4, Época 1/10, Acurácia de Validação: 62.00%\n",
      "  Trial 4, Época 2/10, Acurácia de Validação: 35.13%\n",
      "  Trial 4, Época 3/10, Acurácia de Validação: 70.92%\n",
      "  Trial 4, Época 4/10, Acurácia de Validação: 59.74%\n",
      "  Trial 4, Época 5/10, Acurácia de Validação: 72.84%\n",
      "  Trial 4, Época 6/10, Acurácia de Validação: 72.68%\n",
      "  Trial 4, Época 7/10, Acurácia de Validação: 76.65%\n",
      "  Trial 4, Época 8/10, Acurácia de Validação: 79.43%\n",
      "  Trial 4, Época 9/10, Acurácia de Validação: 77.41%\n"
     ]
    },
    {
     "name": "stderr",
     "output_type": "stream",
     "text": [
      "[I 2025-06-29 15:51:32,346] Trial 4 finished with value: 68.8720856962823 and parameters: {'optimizer': 'Adam', 'lr': 0.024042732748039735, 'batch_size': 128}. Best is trial 3 with value: 94.20289855072464.\n"
     ]
    },
    {
     "name": "stdout",
     "output_type": "stream",
     "text": [
      "  Trial 4, Época 10/10, Acurácia de Validação: 68.87%\n",
      "\n",
      "--- Começando Trial 5 ---\n",
      "  Parâmetros: Otimizador=SGD, LR=0.001216, Batch Size=32\n",
      "  Trial 5, Época 1/10, Acurácia de Validação: 90.99%\n",
      "  Trial 5, Época 2/10, Acurácia de Validação: 89.57%\n",
      "  Trial 5, Época 3/10, Acurácia de Validação: 93.79%\n",
      "  Trial 5, Época 4/10, Acurácia de Validação: 93.79%\n",
      "  Trial 5, Época 5/10, Acurácia de Validação: 93.16%\n",
      "  Trial 5, Época 6/10, Acurácia de Validação: 94.49%\n",
      "  Trial 5, Época 7/10, Acurácia de Validação: 94.64%\n",
      "  Trial 5, Época 8/10, Acurácia de Validação: 94.99%\n",
      "  Trial 5, Época 9/10, Acurácia de Validação: 94.49%\n"
     ]
    },
    {
     "name": "stderr",
     "output_type": "stream",
     "text": [
      "[I 2025-06-29 16:03:59,081] Trial 5 finished with value: 93.25771896660366 and parameters: {'optimizer': 'SGD', 'lr': 0.0012159913315256633, 'batch_size': 32}. Best is trial 3 with value: 94.20289855072464.\n"
     ]
    },
    {
     "name": "stdout",
     "output_type": "stream",
     "text": [
      "  Trial 5, Época 10/10, Acurácia de Validação: 93.26%\n",
      "\n",
      "--- Começando Trial 6 ---\n",
      "  Parâmetros: Otimizador=SGD, LR=0.001906, Batch Size=32\n",
      "  Trial 6, Época 1/10, Acurácia de Validação: 92.09%\n",
      "  Trial 6, Época 2/10, Acurácia de Validação: 91.43%\n",
      "  Trial 6, Época 3/10, Acurácia de Validação: 92.50%\n",
      "  Trial 6, Época 4/10, Acurácia de Validação: 94.17%\n",
      "  Trial 6, Época 5/10, Acurácia de Validação: 93.51%\n",
      "  Trial 6, Época 6/10, Acurácia de Validação: 94.77%\n",
      "  Trial 6, Época 7/10, Acurácia de Validação: 95.18%\n",
      "  Trial 6, Época 8/10, Acurácia de Validação: 94.30%\n",
      "  Trial 6, Época 9/10, Acurácia de Validação: 94.58%\n"
     ]
    },
    {
     "name": "stderr",
     "output_type": "stream",
     "text": [
      "[I 2025-06-29 16:16:29,565] Trial 6 finished with value: 93.79332073093887 and parameters: {'optimizer': 'SGD', 'lr': 0.0019058623776608155, 'batch_size': 32}. Best is trial 3 with value: 94.20289855072464.\n"
     ]
    },
    {
     "name": "stdout",
     "output_type": "stream",
     "text": [
      "  Trial 6, Época 10/10, Acurácia de Validação: 93.79%\n",
      "\n",
      "--- Começando Trial 7 ---\n",
      "  Parâmetros: Otimizador=SGD, LR=0.000022, Batch Size=32\n"
     ]
    },
    {
     "name": "stderr",
     "output_type": "stream",
     "text": [
      "[I 2025-06-29 16:17:42,167] Trial 7 pruned. \n"
     ]
    },
    {
     "name": "stdout",
     "output_type": "stream",
     "text": [
      "  Trial 7, Época 1/10, Acurácia de Validação: 65.09%\n",
      "\n",
      "--- Começando Trial 8 ---\n",
      "  Parâmetros: Otimizador=Adam, LR=0.000826, Batch Size=64\n"
     ]
    },
    {
     "name": "stderr",
     "output_type": "stream",
     "text": [
      "[I 2025-06-29 16:18:52,136] Trial 8 pruned. \n"
     ]
    },
    {
     "name": "stdout",
     "output_type": "stream",
     "text": [
      "  Trial 8, Época 1/10, Acurácia de Validação: 85.89%\n",
      "\n",
      "--- Começando Trial 9 ---\n",
      "  Parâmetros: Otimizador=RMSprop, LR=0.076102, Batch Size=32\n"
     ]
    },
    {
     "name": "stderr",
     "output_type": "stream",
     "text": [
      "[I 2025-06-29 16:20:08,454] Trial 9 pruned. \n"
     ]
    },
    {
     "name": "stdout",
     "output_type": "stream",
     "text": [
      "  Trial 9, Época 1/10, Acurácia de Validação: 60.43%\n",
      "\n",
      "--- Começando Trial 10 ---\n",
      "  Parâmetros: Otimizador=RMSprop, LR=0.000108, Batch Size=64\n",
      "  Trial 10, Época 1/10, Acurácia de Validação: 92.66%\n",
      "  Trial 10, Época 2/10, Acurácia de Validação: 90.17%\n",
      "  Trial 10, Época 3/10, Acurácia de Validação: 92.91%\n"
     ]
    },
    {
     "name": "stderr",
     "output_type": "stream",
     "text": [
      "[I 2025-06-29 16:24:46,620] Trial 10 pruned. \n"
     ]
    },
    {
     "name": "stdout",
     "output_type": "stream",
     "text": [
      "  Trial 10, Época 4/10, Acurácia de Validação: 89.67%\n",
      "\n",
      "--- Começando Trial 11 ---\n",
      "  Parâmetros: Otimizador=RMSprop, LR=0.000014, Batch Size=128\n",
      "  Trial 11, Época 1/10, Acurácia de Validação: 91.68%\n",
      "  Trial 11, Época 2/10, Acurácia de Validação: 92.82%\n",
      "  Trial 11, Época 3/10, Acurácia de Validação: 93.10%\n"
     ]
    },
    {
     "name": "stderr",
     "output_type": "stream",
     "text": [
      "[I 2025-06-29 16:29:18,435] Trial 11 pruned. \n"
     ]
    },
    {
     "name": "stdout",
     "output_type": "stream",
     "text": [
      "  Trial 11, Época 4/10, Acurácia de Validação: 93.48%\n",
      "\n",
      "--- Começando Trial 12 ---\n",
      "  Parâmetros: Otimizador=RMSprop, LR=0.000113, Batch Size=128\n"
     ]
    },
    {
     "name": "stderr",
     "output_type": "stream",
     "text": [
      "[I 2025-06-29 16:30:26,403] Trial 12 pruned. \n"
     ]
    },
    {
     "name": "stdout",
     "output_type": "stream",
     "text": [
      "  Trial 12, Época 1/10, Acurácia de Validação: 90.61%\n",
      "\n",
      "--- Começando Trial 13 ---\n",
      "  Parâmetros: Otimizador=RMSprop, LR=0.000096, Batch Size=128\n"
     ]
    },
    {
     "name": "stderr",
     "output_type": "stream",
     "text": [
      "[I 2025-06-29 16:31:41,538] Trial 13 pruned. \n"
     ]
    },
    {
     "name": "stdout",
     "output_type": "stream",
     "text": [
      "  Trial 13, Época 1/10, Acurácia de Validação: 88.78%\n",
      "\n",
      "--- Começando Trial 14 ---\n",
      "  Parâmetros: Otimizador=RMSprop, LR=0.000037, Batch Size=64\n",
      "  Trial 14, Época 1/10, Acurácia de Validação: 91.43%\n",
      "  Trial 14, Época 2/10, Acurácia de Validação: 92.44%\n"
     ]
    },
    {
     "name": "stderr",
     "output_type": "stream",
     "text": [
      "[I 2025-06-29 16:35:16,406] Trial 14 pruned. \n"
     ]
    },
    {
     "name": "stdout",
     "output_type": "stream",
     "text": [
      "  Trial 14, Época 3/10, Acurácia de Validação: 92.09%\n",
      "\n",
      "--- Começando Trial 15 ---\n",
      "  Parâmetros: Otimizador=RMSprop, LR=0.000011, Batch Size=128\n",
      "  Trial 15, Época 1/10, Acurácia de Validação: 91.68%\n",
      "  Trial 15, Época 2/10, Acurácia de Validação: 92.66%\n",
      "  Trial 15, Época 3/10, Acurácia de Validação: 93.45%\n"
     ]
    },
    {
     "name": "stderr",
     "output_type": "stream",
     "text": [
      "[I 2025-06-29 16:39:49,758] Trial 15 pruned. \n"
     ]
    },
    {
     "name": "stdout",
     "output_type": "stream",
     "text": [
      "  Trial 15, Época 4/10, Acurácia de Validação: 93.76%\n",
      "\n",
      "--- Começando Trial 16 ---\n",
      "  Parâmetros: Otimizador=Adam, LR=0.000285, Batch Size=64\n"
     ]
    },
    {
     "name": "stderr",
     "output_type": "stream",
     "text": [
      "[I 2025-06-29 16:41:02,810] Trial 16 pruned. \n"
     ]
    },
    {
     "name": "stdout",
     "output_type": "stream",
     "text": [
      "  Trial 16, Época 1/10, Acurácia de Validação: 90.01%\n",
      "\n",
      "--- Começando Trial 17 ---\n",
      "  Parâmetros: Otimizador=RMSprop, LR=0.006638, Batch Size=128\n"
     ]
    },
    {
     "name": "stderr",
     "output_type": "stream",
     "text": [
      "[I 2025-06-29 16:42:10,657] Trial 17 pruned. \n"
     ]
    },
    {
     "name": "stdout",
     "output_type": "stream",
     "text": [
      "  Trial 17, Época 1/10, Acurácia de Validação: 58.03%\n",
      "\n",
      "--- Começando Trial 18 ---\n",
      "  Parâmetros: Otimizador=RMSprop, LR=0.000056, Batch Size=64\n"
     ]
    }
   ],
   "source": [
    "print(\"\\n--- Treinando o modelo final com os melhores parâmetros encontrados ---\")\n",
    "\n",
    "# Obter os melhores parâmetros do estudo\n",
    "best_params = study.best_params\n",
    "final_batch_size = best_params['batch_size']\n",
    "final_lr = best_params['lr']\n",
    "final_optimizer_name = best_params['optimizer']\n",
    "\n",
    "# Criar DataLoaders com o melhor batch_size\n",
    "train_loader = DataLoader(train_dataset, batch_size=final_batch_size, shuffle=True)\n",
    "val_loader = DataLoader(val_dataset, batch_size=final_batch_size, shuffle=False)\n",
    "test_loader = DataLoader(test_dataset, batch_size=final_batch_size, shuffle=False)\n",
    "\n",
    "# Criar o modelo final\n",
    "final_model = models.resnet50(weights='IMAGENET1K_V1')\n",
    "num_ftrs = final_model.fc.in_features\n",
    "final_model.fc = nn.Linear(num_ftrs, 4)\n",
    "final_model = final_model.to(device)\n",
    "\n",
    "# Criar o otimizador final\n",
    "if final_optimizer_name == \"Adam\":\n",
    "    final_optimizer = optim.Adam(final_model.parameters(), lr=final_lr)\n",
    "elif final_optimizer_name == \"RMSprop\":\n",
    "    final_optimizer = optim.RMSprop(final_model.parameters(), lr=final_lr)\n",
    "else:\n",
    "    final_optimizer = optim.SGD(final_model.parameters(), lr=final_lr, momentum=0.9)\n",
    "\n",
    "criterion = nn.CrossEntropyLoss()\n",
    "\n",
    "# Loop de treinamento final\n",
    "num_epochs = 10 \n",
    "for epoch in range(num_epochs):\n",
    "    final_model.train()\n",
    "    running_loss = 0.0\n",
    "    correct = 0\n",
    "    total = 0\n",
    "    for images, labels in train_loader:\n",
    "        images, labels = images.to(device), labels.to(device)\n",
    "        final_optimizer.zero_grad()\n",
    "        outputs = final_model(images)\n",
    "        loss = criterion(outputs, labels)\n",
    "        loss.backward()\n",
    "        final_optimizer.step()\n",
    "        \n",
    "        running_loss += loss.item()\n",
    "        _, predicted = outputs.max(1)\n",
    "        correct += predicted.eq(labels).sum().item()\n",
    "        total += labels.size(0)\n",
    "\n",
    "    train_acc = 100 * correct / total\n",
    "    print(f\"Época Final {epoch+1}/{num_epochs}, Loss: {running_loss/len(train_loader):.4f}, Acurácia de Treino: {train_acc:.2f}%\")\n",
    "\n",
    "print(\"Treinamento final completo!\")"
   ]
  },
  {
   "cell_type": "code",
   "execution_count": null,
   "id": "5b108c42",
   "metadata": {},
   "outputs": [
    {
     "name": "stdout",
     "output_type": "stream",
     "text": [
      "Test Accuracy: 94.36%\n"
     ]
    }
   ],
   "source": [
    "def evaluate_model(model, dataloader, device):\n",
    "    model.eval()\n",
    "    correct = 0\n",
    "    total = 0\n",
    "    all_preds = []\n",
    "    all_labels = []\n",
    "\n",
    "    with torch.no_grad():\n",
    "        for images, labels in dataloader:\n",
    "            images, labels = images.to(device), labels.to(device)\n",
    "            outputs = model(images)\n",
    "            _, predicted = torch.max(outputs, 1)\n",
    "            correct += (predicted == labels).sum().item()\n",
    "            total += labels.size(0)\n",
    "\n",
    "            all_preds.extend(predicted.cpu().numpy())\n",
    "            all_labels.extend(labels.cpu().numpy())\n",
    "\n",
    "    accuracy = 100 * correct / total\n",
    "    print(f\"Test Accuracy: {accuracy:.2f}%\")\n",
    "    \n",
    "    return all_labels, all_preds\n",
    "\n",
    "true_labels, pred_labels = evaluate_model(model, test_loader, device)"
   ]
  },
  {
   "cell_type": "code",
   "execution_count": null,
   "id": "745a3737",
   "metadata": {},
   "outputs": [
    {
     "data": {
      "image/png": "[encoded data removed]",
      "text/plain": [
       "<Figure size 600x600 with 2 Axes>"
      ]
     },
     "metadata": {},
     "output_type": "display_data"
    },
    {
     "name": "stdout",
     "output_type": "stream",
     "text": [
      "Classification Report:\n",
      "                  precision    recall  f1-score   support\n",
      "\n",
      "          COVID       0.99      0.94      0.96       566\n",
      "   Lung_Opacity       0.95      0.88      0.92       890\n",
      "         Normal       0.92      0.98      0.95      1530\n",
      "Viral Pneumonia       0.96      0.97      0.97       190\n",
      "\n",
      "       accuracy                           0.94      3176\n",
      "      macro avg       0.96      0.94      0.95      3176\n",
      "   weighted avg       0.94      0.94      0.94      3176\n",
      "\n"
     ]
    }
   ],
   "source": [
    "# Confusion Matrix\n",
    "cm = confusion_matrix(true_labels, pred_labels)\n",
    "plt.figure(figsize=(6,6))\n",
    "sns.heatmap(cm, annot=True, fmt=\"d\", cmap=\"Blues\", xticklabels=dataset.classes, yticklabels=dataset.classes)\n",
    "plt.xlabel(\"Predicted\")\n",
    "plt.ylabel(\"Actual\")\n",
    "plt.title(\"Confusion Matrix\")\n",
    "plt.show()\n",
    "\n",
    "# Classification Report\n",
    "print(\"Classification Report:\\n\", classification_report(true_labels, pred_labels, target_names=dataset.classes))"
   ]
  }
 ],
 "metadata": {
  "kernelspec": {
   "display_name": "venv",
   "language": "python",
   "name": "python3"
  },
  "language_info": {
   "codemirror_mode": {
    "name": "ipython",
    "version": 3
   },
   "file_extension": ".py",
   "mimetype": "text/x-python",
   "name": "python",
   "nbconvert_exporter": "python",
   "pygments_lexer": "ipython3",
   "version": "3.10.12"
  }
 },
 "nbformat": 4,
 "nbformat_minor": 5
}
