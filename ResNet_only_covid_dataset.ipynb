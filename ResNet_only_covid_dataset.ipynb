{
 "cells": [
  {
   "cell_type": "code",
   "execution_count": 9,
   "id": "af99de26",
   "metadata": {},
   "outputs": [
    {
     "name": "stdout",
     "output_type": "stream",
     "text": [
      "Semente definida para 42.\n",
      "Usando dispositivo: cuda\n"
     ]
    }
   ],
   "source": [
    "import os\n",
    "import random\n",
    "import torch\n",
    "import torchvision.transforms as transforms\n",
    "from torchvision.datasets import ImageFolder\n",
    "from torch.utils.data import DataLoader, random_split\n",
    "import torch.nn as nn\n",
    "import torch.optim as optim\n",
    "import torchvision.models as models\n",
    "import matplotlib.pyplot as plt\n",
    "import numpy as np\n",
    "from sklearn.metrics import classification_report, confusion_matrix\n",
    "import seaborn as sns\n",
    "import shutil\n",
    "import optuna\n",
    "\n",
    "# --- Configuração Inicial da Semente Aleatória ---\n",
    "SEED = 42\n",
    "\n",
    "def set_seed(seed):\n",
    "    \"\"\"Define a semente para reprodutibilidade.\"\"\"\n",
    "    random.seed(seed)\n",
    "    np.random.seed(seed)\n",
    "    torch.manual_seed(seed)\n",
    "    if torch.cuda.is_available():\n",
    "        torch.cuda.manual_seed(seed)\n",
    "        torch.cuda.manual_seed_all(seed)\n",
    "        torch.backends.cudnn.deterministic = True\n",
    "        torch.backends.cudnn.benchmark = False\n",
    "    os.environ[\"PYTHONHASHSEED\"] = str(seed)\n",
    "    print(f\"Semente definida para {seed}.\")\n",
    "\n",
    "set_seed(SEED)\n",
    "device = torch.device(\"cuda\" if torch.cuda.is_available() else \"cpu\")\n",
    "print(f\"Usando dispositivo: {device}\")"
   ]
  },
  {
   "cell_type": "markdown",
   "id": "56e2094d",
   "metadata": {},
   "source": [
    "#### Data Preprocessing & Augmentation"
   ]
  },
  {
   "cell_type": "code",
   "execution_count": 10,
   "id": "390a3103",
   "metadata": {},
   "outputs": [
    {
     "name": "stdout",
     "output_type": "stream",
     "text": [
      "✅ Dataset structured successfully!\n"
     ]
    }
   ],
   "source": [
    "dataset_path = \"./COVID-19_Radiography_Dataset\"\n",
    "structured_dataset = \"./structured_dataset\"\n",
    "\n",
    "# Estruturacao de dataset\n",
    "def create_image_dataset(source_dir, target_dir):\n",
    "    if not os.path.exists(target_dir):\n",
    "        os.makedirs(target_dir)\n",
    "\n",
    "    classes = [\"COVID\", \"Normal\", \"Viral Pneumonia\", \"Lung_Opacity\"]\n",
    "\n",
    "    for cls in classes:\n",
    "        src_folder = os.path.join(source_dir, cls, \"images\")  # pasta original\n",
    "        dst_folder = os.path.join(target_dir, cls)  # pasta estruturada\n",
    "\n",
    "        os.makedirs(dst_folder, exist_ok=True)\n",
    "\n",
    "        for img in os.listdir(src_folder):\n",
    "            src_path = os.path.join(src_folder, img)\n",
    "            dst_path = os.path.join(dst_folder, img)\n",
    "            shutil.copy(src_path, dst_path)  \n",
    "\n",
    "create_image_dataset(dataset_path, structured_dataset)\n",
    "\n",
    "print(\"✅ Dataset structured successfully!\")"
   ]
  },
  {
   "cell_type": "code",
   "execution_count": 11,
   "id": "72242923",
   "metadata": {},
   "outputs": [],
   "source": [
    "transform = transforms.Compose([\n",
    "    transforms.Resize((224, 224)),  # Redimensionar para padronizar com ResNet\n",
    "    transforms.RandomRotation(10),  # Rotacionar imagens\n",
    "    transforms.RandomHorizontalFlip(p=0.5),  # Inverter horizontalmente\n",
    "    transforms.ToTensor(),  # Converter para tensor\n",
    "    transforms.Normalize([0.485, 0.456, 0.406], [0.229, 0.224, 0.225])  # Normalizar com médias e desvios padrão do ImageNet\n",
    "])\n",
    "\n",
    "# Carregar o dataset estruturado\n",
    "dataset = ImageFolder(root=structured_dataset, transform=transform)"
   ]
  },
  {
   "cell_type": "markdown",
   "id": "769e4bde",
   "metadata": {},
   "source": [
    "#### Train, Validation, Test Split"
   ]
  },
  {
   "cell_type": "code",
   "execution_count": 12,
   "id": "13bd21d4",
   "metadata": {},
   "outputs": [
    {
     "name": "stdout",
     "output_type": "stream",
     "text": [
      "Tamanhos dos conjuntos -> Treino: 14815, Validação: 3174, Teste: 3176\n",
      "Classes treino: {'Normal': 7153, 'Lung_Opacity': 4197, 'COVID': 2519, 'Viral Pneumonia': 946}\n",
      "Classes validação: {'Normal': 1509, 'COVID': 531, 'Lung_Opacity': 925, 'Viral Pneumonia': 209}\n",
      "Classes teste: {'COVID': 566, 'Normal': 1530, 'Lung_Opacity': 890, 'Viral Pneumonia': 190}\n"
     ]
    }
   ],
   "source": [
    "train_size = int(0.7 * len(dataset))  # 70% Train\n",
    "val_size = int(0.15 * len(dataset))   # 15% Val\n",
    "test_size = len(dataset) - train_size - val_size  # 15% Test\n",
    "\n",
    "train_dataset, val_dataset, test_dataset = random_split(dataset, [train_size, val_size, test_size])\n",
    "print(f\"Tamanhos dos conjuntos -> Treino: {len(train_dataset)}, Validação: {len(val_dataset)}, Teste: {len(test_dataset)}\")\n",
    "\n",
    "# Quantidade por classes\n",
    "def count_classes(subset):\n",
    "    class_counts = {}\n",
    "    for _, label in subset:\n",
    "        class_name = dataset.classes[label]\n",
    "        if class_name in class_counts:\n",
    "            class_counts[class_name] += 1\n",
    "        else:\n",
    "            class_counts[class_name] = 1\n",
    "    return class_counts\n",
    "\n",
    "train_counts = count_classes(train_dataset)\n",
    "val_counts = count_classes(val_dataset)\n",
    "test_counts = count_classes(test_dataset)\n",
    "print(f\"Classes treino: {train_counts}\")\n",
    "print(f\"Classes validação: {val_counts}\")\n",
    "print(f\"Classes teste: {test_counts}\")"
   ]
  },
  {
   "cell_type": "markdown",
   "id": "ad385d56",
   "metadata": {},
   "source": [
    "##### Optimization com Optuna"
   ]
  },
  {
   "cell_type": "code",
   "execution_count": 13,
   "id": "35d1e92c",
   "metadata": {},
   "outputs": [],
   "source": [
    "def objective(trial):\n",
    "    # Hiperparâmetros testados pelo Optuna\n",
    "    optimizer_name = trial.suggest_categorical(\"optimizer\", [\"Adam\", \"RMSprop\", \"SGD\"])\n",
    "    lr = trial.suggest_float(\"lr\", 1e-5, 1e-1, log=True)\n",
    "    batch_size = trial.suggest_categorical(\"batch_size\", [32, 64, 128])\n",
    "    \n",
    "    print(f\"\\n--- Começando Trial {trial.number} ---\")\n",
    "    print(f\"  Parâmetros: Otimizador={optimizer_name}, LR={lr:.6f}, Batch Size={batch_size}\")\n",
    "    \n",
    "    # Criação dos DataLoaders, Modelo e Otimizador para este trial\n",
    "    # DataLoaders precisam ser recriados pois o batch_size muda a cada trial\n",
    "    train_loader = DataLoader(train_dataset, batch_size=batch_size, shuffle=True)\n",
    "    val_loader = DataLoader(val_dataset, batch_size=batch_size, shuffle=False)\n",
    "\n",
    "    # Definir o modelo (uma nova instância para cada trial)\n",
    "    model = models.resnet50(weights='IMAGENET1K_V1')\n",
    "    num_ftrs = model.fc.in_features\n",
    "    model.fc = nn.Linear(num_ftrs, 4)\n",
    "    model = model.to(device)\n",
    "\n",
    "    # Definir o otimizador com os parâmetros sugeridos\n",
    "    if optimizer_name == \"Adam\":\n",
    "        optimizer = optim.Adam(model.parameters(), lr=lr)\n",
    "    elif optimizer_name == \"RMSprop\":\n",
    "        optimizer = optim.RMSprop(model.parameters(), lr=lr)\n",
    "    else:\n",
    "        optimizer = optim.SGD(model.parameters(), lr=lr, momentum=0.9)\n",
    "        \n",
    "    criterion = nn.CrossEntropyLoss()\n",
    "    \n",
    "    num_epochs = 10 # epocas fixas para comparar os hiperparâmetros\n",
    "    \n",
    "    for epoch in range(num_epochs):\n",
    "        model.train()\n",
    "        for images, labels in train_loader:\n",
    "            images, labels = images.to(device), labels.to(device)\n",
    "            optimizer.zero_grad()\n",
    "            outputs = model(images)\n",
    "            loss = criterion(outputs, labels)\n",
    "            loss.backward()\n",
    "            optimizer.step()\n",
    "            \n",
    "        # Avaliação no conjunto de validação após cada época\n",
    "        model.eval()\n",
    "        correct = 0\n",
    "        total = 0\n",
    "        with torch.no_grad():\n",
    "            for images, labels in val_loader:\n",
    "                images, labels = images.to(device), labels.to(device)\n",
    "                outputs = model(images)\n",
    "                _, predicted = torch.max(outputs.data, 1)\n",
    "                total += labels.size(0)\n",
    "                correct += (predicted == labels).sum().item()\n",
    "        \n",
    "        val_accuracy = 100 * correct / total\n",
    "        print(f\"  Trial {trial.number}, Época {epoch+1}/{num_epochs}, Acurácia de Validação: {val_accuracy:.2f}%\")\n",
    "        \n",
    "        # Reporta o resultado intermediário para \"pruning\"\n",
    "        trial.report(val_accuracy, epoch)\n",
    "\n",
    "        # Verifica se o trial deve ser interrompido (pruned)\n",
    "        if trial.should_prune():\n",
    "            raise optuna.exceptions.TrialPruned()\n",
    "\n",
    "    return val_accuracy # Retorna a métrica final (acurácia da última época) para o Optuna"
   ]
  },
  {
   "cell_type": "code",
   "execution_count": null,
   "id": "4cf6d062",
   "metadata": {},
   "outputs": [
    {
     "name": "stderr",
     "output_type": "stream",
     "text": [
      "[I 2025-06-30 15:58:24,142] A new study created in memory with name: no-name-a5f28c43-074d-4a16-b5bf-bb3908138592\n"
     ]
    },
    {
     "name": "stdout",
     "output_type": "stream",
     "text": [
      "\n",
      "--- Começando Trial 0 ---\n",
      "  Parâmetros: Otimizador=Adam, LR=0.000032, Batch Size=128\n",
      "  Trial 0, Época 1/10, Acurácia de Validação: 91.87%\n",
      "  Trial 0, Época 2/10, Acurácia de Validação: 93.01%\n",
      "  Trial 0, Época 3/10, Acurácia de Validação: 93.92%\n",
      "  Trial 0, Época 4/10, Acurácia de Validação: 93.79%\n",
      "  Trial 0, Época 5/10, Acurácia de Validação: 94.99%\n",
      "  Trial 0, Época 6/10, Acurácia de Validação: 94.93%\n",
      "  Trial 0, Época 7/10, Acurácia de Validação: 94.58%\n",
      "  Trial 0, Época 8/10, Acurácia de Validação: 93.86%\n",
      "  Trial 0, Época 9/10, Acurácia de Validação: 94.68%\n"
     ]
    },
    {
     "name": "stderr",
     "output_type": "stream",
     "text": [
      "[I 2025-06-30 16:09:57,995] Trial 0 finished with value: 94.48645242596093 and parameters: {'optimizer': 'Adam', 'lr': 3.184426506059139e-05, 'batch_size': 128}. Best is trial 0 with value: 94.48645242596093.\n"
     ]
    },
    {
     "name": "stdout",
     "output_type": "stream",
     "text": [
      "  Trial 0, Época 10/10, Acurácia de Validação: 94.49%\n",
      "\n",
      "--- Começando Trial 1 ---\n",
      "  Parâmetros: Otimizador=SGD, LR=0.001405, Batch Size=64\n",
      "  Trial 1, Época 1/10, Acurácia de Validação: 89.76%\n",
      "  Trial 1, Época 2/10, Acurácia de Validação: 93.13%\n",
      "  Trial 1, Época 3/10, Acurácia de Validação: 91.40%\n",
      "  Trial 1, Época 4/10, Acurácia de Validação: 94.23%\n",
      "  Trial 1, Época 5/10, Acurácia de Validação: 92.53%\n",
      "  Trial 1, Época 6/10, Acurácia de Validação: 94.36%\n",
      "  Trial 1, Época 7/10, Acurácia de Validação: 94.83%\n",
      "  Trial 1, Época 8/10, Acurácia de Validação: 94.08%\n",
      "  Trial 1, Época 9/10, Acurácia de Validação: 93.32%\n"
     ]
    },
    {
     "name": "stderr",
     "output_type": "stream",
     "text": [
      "[I 2025-06-30 16:21:50,024] Trial 1 finished with value: 94.5179584120983 and parameters: {'optimizer': 'SGD', 'lr': 0.0014052384442135432, 'batch_size': 64}. Best is trial 1 with value: 94.5179584120983.\n"
     ]
    },
    {
     "name": "stdout",
     "output_type": "stream",
     "text": [
      "  Trial 1, Época 10/10, Acurácia de Validação: 94.52%\n",
      "\n",
      "--- Começando Trial 2 ---\n",
      "  Parâmetros: Otimizador=Adam, LR=0.002198, Batch Size=128\n",
      "  Trial 2, Época 1/10, Acurácia de Validação: 57.94%\n",
      "  Trial 2, Época 2/10, Acurácia de Validação: 81.73%\n",
      "  Trial 2, Época 3/10, Acurácia de Validação: 80.78%\n",
      "  Trial 2, Época 4/10, Acurácia de Validação: 86.58%\n",
      "  Trial 2, Época 5/10, Acurácia de Validação: 82.58%\n",
      "  Trial 2, Época 6/10, Acurácia de Validação: 89.22%\n",
      "  Trial 2, Época 7/10, Acurácia de Validação: 87.15%\n",
      "  Trial 2, Época 8/10, Acurácia de Validação: 89.38%\n",
      "  Trial 2, Época 9/10, Acurácia de Validação: 90.26%\n"
     ]
    },
    {
     "name": "stderr",
     "output_type": "stream",
     "text": [
      "[I 2025-06-30 16:33:38,115] Trial 2 finished with value: 75.17328292375551 and parameters: {'optimizer': 'Adam', 'lr': 0.0021975450943537943, 'batch_size': 128}. Best is trial 1 with value: 94.5179584120983.\n"
     ]
    },
    {
     "name": "stdout",
     "output_type": "stream",
     "text": [
      "  Trial 2, Época 10/10, Acurácia de Validação: 75.17%\n",
      "\n",
      "--- Começando Trial 3 ---\n",
      "  Parâmetros: Otimizador=Adam, LR=0.000808, Batch Size=64\n",
      "  Trial 3, Época 1/10, Acurácia de Validação: 88.91%\n",
      "  Trial 3, Época 2/10, Acurácia de Validação: 79.14%\n",
      "  Trial 3, Época 3/10, Acurácia de Validação: 89.29%\n",
      "  Trial 3, Época 4/10, Acurácia de Validação: 91.34%\n",
      "  Trial 3, Época 5/10, Acurácia de Validação: 89.35%\n",
      "  Trial 3, Época 6/10, Acurácia de Validação: 92.47%\n",
      "  Trial 3, Época 7/10, Acurácia de Validação: 92.53%\n",
      "  Trial 3, Época 8/10, Acurácia de Validação: 91.97%\n",
      "  Trial 3, Época 9/10, Acurácia de Validação: 90.61%\n"
     ]
    },
    {
     "name": "stderr",
     "output_type": "stream",
     "text": [
      "[I 2025-06-30 16:45:18,538] Trial 3 finished with value: 92.97416509136735 and parameters: {'optimizer': 'Adam', 'lr': 0.0008079991281521371, 'batch_size': 64}. Best is trial 1 with value: 94.5179584120983.\n"
     ]
    },
    {
     "name": "stdout",
     "output_type": "stream",
     "text": [
      "  Trial 3, Época 10/10, Acurácia de Validação: 92.97%\n",
      "\n",
      "--- Começando Trial 4 ---\n",
      "  Parâmetros: Otimizador=RMSprop, LR=0.000103, Batch Size=128\n",
      "  Trial 4, Época 1/10, Acurácia de Validação: 88.72%\n",
      "  Trial 4, Época 2/10, Acurácia de Validação: 93.04%\n",
      "  Trial 4, Época 3/10, Acurácia de Validação: 93.54%\n",
      "  Trial 4, Época 4/10, Acurácia de Validação: 90.77%\n",
      "  Trial 4, Época 5/10, Acurácia de Validação: 88.78%\n",
      "  Trial 4, Época 6/10, Acurácia de Validação: 91.75%\n",
      "  Trial 4, Época 7/10, Acurácia de Validação: 94.77%\n",
      "  Trial 4, Época 8/10, Acurácia de Validação: 90.83%\n",
      "  Trial 4, Época 9/10, Acurácia de Validação: 94.05%\n"
     ]
    },
    {
     "name": "stderr",
     "output_type": "stream",
     "text": [
      "[I 2025-06-30 16:57:10,019] Trial 4 finished with value: 95.05356017643352 and parameters: {'optimizer': 'RMSprop', 'lr': 0.00010339389974160065, 'batch_size': 128}. Best is trial 4 with value: 95.05356017643352.\n"
     ]
    },
    {
     "name": "stdout",
     "output_type": "stream",
     "text": [
      "  Trial 4, Época 10/10, Acurácia de Validação: 95.05%\n",
      "\n",
      "--- Começando Trial 5 ---\n",
      "  Parâmetros: Otimizador=RMSprop, LR=0.000075, Batch Size=128\n",
      "  Trial 5, Época 1/10, Acurácia de Validação: 91.43%\n"
     ]
    },
    {
     "name": "stderr",
     "output_type": "stream",
     "text": [
      "[I 2025-06-30 16:59:30,177] Trial 5 pruned. \n"
     ]
    },
    {
     "name": "stdout",
     "output_type": "stream",
     "text": [
      "  Trial 5, Época 2/10, Acurácia de Validação: 92.56%\n",
      "\n",
      "--- Começando Trial 6 ---\n",
      "  Parâmetros: Otimizador=Adam, LR=0.000033, Batch Size=128\n",
      "  Trial 6, Época 1/10, Acurácia de Validação: 90.96%\n"
     ]
    },
    {
     "name": "stderr",
     "output_type": "stream",
     "text": [
      "[I 2025-06-30 17:01:52,278] Trial 6 pruned. \n"
     ]
    },
    {
     "name": "stdout",
     "output_type": "stream",
     "text": [
      "  Trial 6, Época 2/10, Acurácia de Validação: 92.97%\n",
      "\n",
      "--- Começando Trial 7 ---\n",
      "  Parâmetros: Otimizador=RMSprop, LR=0.054143, Batch Size=64\n"
     ]
    },
    {
     "name": "stderr",
     "output_type": "stream",
     "text": [
      "[I 2025-06-30 17:03:04,288] Trial 7 pruned. \n"
     ]
    },
    {
     "name": "stdout",
     "output_type": "stream",
     "text": [
      "  Trial 7, Época 1/10, Acurácia de Validação: 57.97%\n",
      "\n",
      "--- Começando Trial 8 ---\n",
      "  Parâmetros: Otimizador=RMSprop, LR=0.008582, Batch Size=32\n"
     ]
    },
    {
     "name": "stderr",
     "output_type": "stream",
     "text": [
      "[I 2025-06-30 17:04:19,185] Trial 8 pruned. \n"
     ]
    },
    {
     "name": "stdout",
     "output_type": "stream",
     "text": [
      "  Trial 8, Época 1/10, Acurácia de Validação: 66.79%\n",
      "\n",
      "--- Começando Trial 9 ---\n",
      "  Parâmetros: Otimizador=SGD, LR=0.001062, Batch Size=64\n",
      "  Trial 9, Época 1/10, Acurácia de Validação: 89.10%\n"
     ]
    },
    {
     "name": "stderr",
     "output_type": "stream",
     "text": [
      "[I 2025-06-30 17:06:39,168] Trial 9 pruned. \n"
     ]
    },
    {
     "name": "stdout",
     "output_type": "stream",
     "text": [
      "  Trial 9, Época 2/10, Acurácia de Validação: 91.90%\n",
      "\n",
      "--- Começando Trial 10 ---\n",
      "  Parâmetros: Otimizador=RMSprop, LR=0.000152, Batch Size=32\n"
     ]
    },
    {
     "name": "stderr",
     "output_type": "stream",
     "text": [
      "[I 2025-06-30 17:07:54,023] Trial 10 pruned. \n"
     ]
    },
    {
     "name": "stdout",
     "output_type": "stream",
     "text": [
      "  Trial 10, Época 1/10, Acurácia de Validação: 88.69%\n",
      "\n",
      "--- Começando Trial 11 ---\n",
      "  Parâmetros: Otimizador=SGD, LR=0.000310, Batch Size=64\n"
     ]
    },
    {
     "name": "stderr",
     "output_type": "stream",
     "text": [
      "[I 2025-06-30 17:09:04,251] Trial 11 pruned. \n"
     ]
    },
    {
     "name": "stdout",
     "output_type": "stream",
     "text": [
      "  Trial 11, Época 1/10, Acurácia de Validação: 83.96%\n",
      "\n",
      "--- Começando Trial 12 ---\n",
      "  Parâmetros: Otimizador=SGD, LR=0.000011, Batch Size=128\n"
     ]
    },
    {
     "name": "stderr",
     "output_type": "stream",
     "text": [
      "[I 2025-06-30 17:10:13,960] Trial 12 pruned. \n"
     ]
    },
    {
     "name": "stdout",
     "output_type": "stream",
     "text": [
      "  Trial 12, Época 1/10, Acurácia de Validação: 47.64%\n",
      "\n",
      "--- Começando Trial 13 ---\n",
      "  Parâmetros: Otimizador=SGD, LR=0.007801, Batch Size=64\n"
     ]
    },
    {
     "name": "stderr",
     "output_type": "stream",
     "text": [
      "[I 2025-06-30 17:11:24,941] Trial 13 pruned. \n"
     ]
    },
    {
     "name": "stdout",
     "output_type": "stream",
     "text": [
      "  Trial 13, Época 1/10, Acurácia de Validação: 87.87%\n",
      "\n",
      "--- Começando Trial 14 ---\n",
      "  Parâmetros: Otimizador=RMSprop, LR=0.000370, Batch Size=32\n"
     ]
    },
    {
     "name": "stderr",
     "output_type": "stream",
     "text": [
      "[I 2025-06-30 17:12:37,108] Trial 14 pruned. \n"
     ]
    },
    {
     "name": "stdout",
     "output_type": "stream",
     "text": [
      "  Trial 14, Época 1/10, Acurácia de Validação: 80.88%\n",
      "\n",
      "--- Começando Trial 15 ---\n",
      "  Parâmetros: Otimizador=SGD, LR=0.004027, Batch Size=128\n",
      "  Trial 15, Época 1/10, Acurácia de Validação: 91.05%\n"
     ]
    },
    {
     "name": "stderr",
     "output_type": "stream",
     "text": [
      "[I 2025-06-30 17:14:55,766] Trial 15 pruned. \n"
     ]
    },
    {
     "name": "stdout",
     "output_type": "stream",
     "text": [
      "  Trial 15, Época 2/10, Acurácia de Validação: 92.16%\n",
      "\n",
      "--- Começando Trial 16 ---\n",
      "  Parâmetros: Otimizador=RMSprop, LR=0.047738, Batch Size=64\n"
     ]
    },
    {
     "name": "stderr",
     "output_type": "stream",
     "text": [
      "[I 2025-06-30 17:16:05,686] Trial 16 pruned. \n"
     ]
    },
    {
     "name": "stdout",
     "output_type": "stream",
     "text": [
      "  Trial 16, Época 1/10, Acurácia de Validação: 57.69%\n",
      "\n",
      "--- Começando Trial 17 ---\n",
      "  Parâmetros: Otimizador=SGD, LR=0.000142, Batch Size=128\n"
     ]
    },
    {
     "name": "stderr",
     "output_type": "stream",
     "text": [
      "[I 2025-06-30 17:17:13,856] Trial 17 pruned. \n"
     ]
    },
    {
     "name": "stdout",
     "output_type": "stream",
     "text": [
      "  Trial 17, Época 1/10, Acurácia de Validação: 67.23%\n",
      "\n",
      "--- Começando Trial 18 ---\n",
      "  Parâmetros: Otimizador=RMSprop, LR=0.021346, Batch Size=64\n"
     ]
    },
    {
     "name": "stderr",
     "output_type": "stream",
     "text": [
      "[I 2025-06-30 17:18:25,598] Trial 18 pruned. \n"
     ]
    },
    {
     "name": "stdout",
     "output_type": "stream",
     "text": [
      "  Trial 18, Época 1/10, Acurácia de Validação: 63.42%\n",
      "\n",
      "--- Começando Trial 19 ---\n",
      "  Parâmetros: Otimizador=SGD, LR=0.000674, Batch Size=32\n",
      "  Trial 19, Época 1/10, Acurácia de Validação: 89.82%\n",
      "  Trial 19, Época 2/10, Acurácia de Validação: 93.16%\n",
      "  Trial 19, Época 3/10, Acurácia de Validação: 94.01%\n",
      "  Trial 19, Época 4/10, Acurácia de Validação: 94.17%\n",
      "  Trial 19, Época 5/10, Acurácia de Validação: 94.36%\n",
      "  Trial 19, Época 6/10, Acurácia de Validação: 94.99%\n",
      "  Trial 19, Época 7/10, Acurácia de Validação: 93.57%\n",
      "  Trial 19, Época 8/10, Acurácia de Validação: 94.74%\n",
      "  Trial 19, Época 9/10, Acurácia de Validação: 94.33%\n"
     ]
    },
    {
     "name": "stderr",
     "output_type": "stream",
     "text": [
      "[I 2025-06-30 17:30:30,594] Trial 19 finished with value: 94.6124763705104 and parameters: {'optimizer': 'SGD', 'lr': 0.0006738112708258783, 'batch_size': 32}. Best is trial 4 with value: 95.05356017643352.\n"
     ]
    },
    {
     "name": "stdout",
     "output_type": "stream",
     "text": [
      "  Trial 19, Época 10/10, Acurácia de Validação: 94.61%\n",
      "\n",
      "Otimização concluída!\n",
      "Melhor trial:\n",
      "  Valor (Acurácia de Validação): 95.05%\n",
      "  Melhores Hiperparâmetros: \n",
      "    optimizer: RMSprop\n",
      "    lr: 0.00010339389974160065\n",
      "    batch_size: 128\n"
     ]
    }
   ],
   "source": [
    "# Maximizar a acurácia, com estudo Optuna\n",
    "study = optuna.create_study(direction=\"maximize\", pruner=optuna.pruners.MedianPruner())\n",
    "\n",
    "# Inicia a otimização\n",
    "study.optimize(objective, n_trials=20) \n",
    "\n",
    "print(\"\\nOtimização concluída!\")\n",
    "print(\"Melhor trial:\")\n",
    "trial = study.best_trial\n",
    "\n",
    "print(f\"  Valor (Acurácia de Validação): {trial.value:.2f}%\")\n",
    "print(\"  Melhores Hiperparâmetros: \")\n",
    "for key, value in trial.params.items():\n",
    "    print(f\"    {key}: {value}\")\n",
    "\n",
    "# Treinamento levou 92m 6.4s"
   ]
  },
  {
   "cell_type": "code",
   "execution_count": 15,
   "id": "55d5c843",
   "metadata": {},
   "outputs": [
    {
     "name": "stdout",
     "output_type": "stream",
     "text": [
      "\n",
      "--- Treinando o modelo final com os melhores parâmetros encontrados ---\n",
      "Época Final 1/10, Loss: 0.3206, Acurácia de Treino: 88.35%\n",
      "Época Final 2/10, Loss: 0.1607, Acurácia de Treino: 94.41%\n",
      "Época Final 3/10, Loss: 0.1363, Acurácia de Treino: 95.13%\n",
      "Época Final 4/10, Loss: 0.1161, Acurácia de Treino: 95.79%\n",
      "Época Final 5/10, Loss: 0.1050, Acurácia de Treino: 96.31%\n",
      "Época Final 6/10, Loss: 0.0915, Acurácia de Treino: 96.75%\n",
      "Época Final 7/10, Loss: 0.0883, Acurácia de Treino: 96.83%\n",
      "Época Final 8/10, Loss: 0.0736, Acurácia de Treino: 97.36%\n",
      "Época Final 9/10, Loss: 0.0647, Acurácia de Treino: 97.64%\n",
      "Época Final 10/10, Loss: 0.0662, Acurácia de Treino: 97.71%\n",
      "Treinamento final completo!\n"
     ]
    }
   ],
   "source": [
    "print(\"\\n--- Treinando o modelo final com os melhores parâmetros encontrados ---\")\n",
    "\n",
    "# Obter os melhores parâmetros do estudo\n",
    "best_params = study.best_params\n",
    "final_batch_size = best_params['batch_size']\n",
    "final_lr = best_params['lr']\n",
    "final_optimizer_name = best_params['optimizer']\n",
    "\n",
    "# Criar DataLoaders com o melhor batch_size\n",
    "train_loader = DataLoader(train_dataset, batch_size=final_batch_size, shuffle=True)\n",
    "val_loader = DataLoader(val_dataset, batch_size=final_batch_size, shuffle=False)\n",
    "test_loader = DataLoader(test_dataset, batch_size=final_batch_size, shuffle=False)\n",
    "\n",
    "# Criar o modelo final\n",
    "final_model = models.resnet50(weights='IMAGENET1K_V1')\n",
    "num_ftrs = final_model.fc.in_features\n",
    "final_model.fc = nn.Linear(num_ftrs, 4)\n",
    "final_model = final_model.to(device)\n",
    "\n",
    "# Criar o otimizador final\n",
    "if final_optimizer_name == \"Adam\":\n",
    "    final_optimizer = optim.Adam(final_model.parameters(), lr=final_lr)\n",
    "elif final_optimizer_name == \"RMSprop\":\n",
    "    final_optimizer = optim.RMSprop(final_model.parameters(), lr=final_lr)\n",
    "else:\n",
    "    final_optimizer = optim.SGD(final_model.parameters(), lr=final_lr, momentum=0.9)\n",
    "\n",
    "criterion = nn.CrossEntropyLoss()\n",
    "\n",
    "# Loop de treinamento final\n",
    "num_epochs = 10 \n",
    "for epoch in range(num_epochs):\n",
    "    final_model.train()\n",
    "    running_loss = 0.0\n",
    "    correct = 0\n",
    "    total = 0\n",
    "    for images, labels in train_loader:\n",
    "        images, labels = images.to(device), labels.to(device)\n",
    "        final_optimizer.zero_grad()\n",
    "        outputs = final_model(images)\n",
    "        loss = criterion(outputs, labels)\n",
    "        loss.backward()\n",
    "        final_optimizer.step()\n",
    "        \n",
    "        running_loss += loss.item()\n",
    "        _, predicted = outputs.max(1)\n",
    "        correct += predicted.eq(labels).sum().item()\n",
    "        total += labels.size(0)\n",
    "\n",
    "    train_acc = 100 * correct / total\n",
    "    print(f\"Época Final {epoch+1}/{num_epochs}, Loss: {running_loss/len(train_loader):.4f}, Acurácia de Treino: {train_acc:.2f}%\")\n",
    "\n",
    "print(\"Treinamento final completo!\")"
   ]
  },
  {
   "cell_type": "code",
   "execution_count": 16,
   "id": "6aeedd99",
   "metadata": {},
   "outputs": [],
   "source": [
    "# salva modelo\n",
    "torch.save(final_model.state_dict(), \"final_resnet_model_only_public.pth\")"
   ]
  },
  {
   "cell_type": "code",
   "execution_count": 17,
   "id": "5b108c42",
   "metadata": {},
   "outputs": [
    {
     "name": "stdout",
     "output_type": "stream",
     "text": [
      "Test Accuracy: 94.24%\n"
     ]
    }
   ],
   "source": [
    "def evaluate_model(model, dataloader, device):\n",
    "    model.eval()\n",
    "    correct = 0\n",
    "    total = 0\n",
    "    all_preds = []\n",
    "    all_labels = []\n",
    "\n",
    "    with torch.no_grad():\n",
    "        for images, labels in dataloader:\n",
    "            images, labels = images.to(device), labels.to(device)\n",
    "            outputs = model(images)\n",
    "            _, predicted = torch.max(outputs, 1)\n",
    "            correct += (predicted == labels).sum().item()\n",
    "            total += labels.size(0)\n",
    "\n",
    "            all_preds.extend(predicted.cpu().numpy())\n",
    "            all_labels.extend(labels.cpu().numpy())\n",
    "\n",
    "    accuracy = 100 * correct / total\n",
    "    print(f\"Test Accuracy: {accuracy:.2f}%\")\n",
    "    \n",
    "    return all_labels, all_preds\n",
    "\n",
    "true_labels, pred_labels = evaluate_model(final_model, test_loader, device)"
   ]
  },
  {
   "cell_type": "code",
   "execution_count": 18,
   "id": "745a3737",
   "metadata": {},
   "outputs": [
    {
     "data": {
      "image/png": "[encoded data removed]",
      "text/plain": [
       "<Figure size 600x600 with 2 Axes>"
      ]
     },
     "metadata": {},
     "output_type": "display_data"
    },
    {
     "name": "stdout",
     "output_type": "stream",
     "text": [
      "Classification Report:\n",
      "                  precision    recall  f1-score   support\n",
      "\n",
      "          COVID       0.97      0.97      0.97       566\n",
      "   Lung_Opacity       0.96      0.87      0.91       890\n",
      "         Normal       0.92      0.98      0.95      1530\n",
      "Viral Pneumonia       0.98      0.93      0.95       190\n",
      "\n",
      "       accuracy                           0.94      3176\n",
      "      macro avg       0.96      0.94      0.95      3176\n",
      "   weighted avg       0.94      0.94      0.94      3176\n",
      "\n"
     ]
    }
   ],
   "source": [
    "# Confusion Matrix\n",
    "cm = confusion_matrix(true_labels, pred_labels)\n",
    "plt.figure(figsize=(6,6))\n",
    "sns.heatmap(cm, annot=True, fmt=\"d\", cmap=\"Blues\", xticklabels=dataset.classes, yticklabels=dataset.classes)\n",
    "plt.xlabel(\"Predicted\")\n",
    "plt.ylabel(\"Actual\")\n",
    "plt.title(\"Confusion Matrix\")\n",
    "plt.show()\n",
    "\n",
    "# Classification Report\n",
    "print(\"Classification Report:\\n\", classification_report(true_labels, pred_labels, target_names=dataset.classes))"
   ]
  },
  {
   "cell_type": "code",
   "execution_count": 20,
   "id": "60b77378",
   "metadata": {},
   "outputs": [
    {
     "name": "stdout",
     "output_type": "stream",
     "text": [
      "Collecting torchcam\n",
      "  Downloading torchcam-0.4.0-py3-none-any.whl (46 kB)\n",
      "\u001b[2K     \u001b[90m━━━━━━━━━━━━━━━━━━━━━━━━━━━━━━━━━━━━━━━━\u001b[0m \u001b[32m46.0/46.0 KB\u001b[0m \u001b[31m1.7 MB/s\u001b[0m eta \u001b[36m0:00:00\u001b[0m\n",
      "\u001b[?25hRequirement already satisfied: matplotlib<4.0.0,>=3.7.0 in ./venv/lib/python3.10/site-packages (from torchcam) (3.10.3)\n",
      "Requirement already satisfied: torch<3.0.0,>=2.0.0 in ./venv/lib/python3.10/site-packages (from torchcam) (2.7.1+cu118)\n",
      "Requirement already satisfied: Pillow!=9.2.0,>=8.4.0 in ./venv/lib/python3.10/site-packages (from torchcam) (11.0.0)\n",
      "Collecting numpy<2.0.0,>=1.17.2\n",
      "  Downloading numpy-1.26.4-cp310-cp310-manylinux_2_17_x86_64.manylinux2014_x86_64.whl (18.2 MB)\n",
      "\u001b[2K     \u001b[90m━━━━━━━━━━━━━━━━━━━━━━━━━━━━━━━━━━━━━━━━\u001b[0m \u001b[32m18.2/18.2 MB\u001b[0m \u001b[31m65.1 MB/s\u001b[0m eta \u001b[36m0:00:00\u001b[0m00:01\u001b[0m00:01\u001b[0m\n",
      "\u001b[?25hRequirement already satisfied: fonttools>=4.22.0 in ./venv/lib/python3.10/site-packages (from matplotlib<4.0.0,>=3.7.0->torchcam) (4.58.1)\n",
      "Requirement already satisfied: kiwisolver>=1.3.1 in ./venv/lib/python3.10/site-packages (from matplotlib<4.0.0,>=3.7.0->torchcam) (1.4.8)\n",
      "Requirement already satisfied: packaging>=20.0 in ./venv/lib/python3.10/site-packages (from matplotlib<4.0.0,>=3.7.0->torchcam) (25.0)\n",
      "Requirement already satisfied: python-dateutil>=2.7 in ./venv/lib/python3.10/site-packages (from matplotlib<4.0.0,>=3.7.0->torchcam) (2.9.0.post0)\n",
      "Requirement already satisfied: contourpy>=1.0.1 in ./venv/lib/python3.10/site-packages (from matplotlib<4.0.0,>=3.7.0->torchcam) (1.3.2)\n",
      "Requirement already satisfied: pyparsing>=2.3.1 in ./venv/lib/python3.10/site-packages (from matplotlib<4.0.0,>=3.7.0->torchcam) (3.2.3)\n",
      "Requirement already satisfied: cycler>=0.10 in ./venv/lib/python3.10/site-packages (from matplotlib<4.0.0,>=3.7.0->torchcam) (0.12.1)\n",
      "Requirement already satisfied: networkx in ./venv/lib/python3.10/site-packages (from torch<3.0.0,>=2.0.0->torchcam) (3.3)\n",
      "Requirement already satisfied: nvidia-cusparse-cu11==11.7.5.86 in ./venv/lib/python3.10/site-packages (from torch<3.0.0,>=2.0.0->torchcam) (11.7.5.86)\n",
      "Requirement already satisfied: sympy>=1.13.3 in ./venv/lib/python3.10/site-packages (from torch<3.0.0,>=2.0.0->torchcam) (1.13.3)\n",
      "Requirement already satisfied: nvidia-cuda-runtime-cu11==11.8.89 in ./venv/lib/python3.10/site-packages (from torch<3.0.0,>=2.0.0->torchcam) (11.8.89)\n",
      "Requirement already satisfied: nvidia-cuda-cupti-cu11==11.8.87 in ./venv/lib/python3.10/site-packages (from torch<3.0.0,>=2.0.0->torchcam) (11.8.87)\n",
      "Requirement already satisfied: nvidia-cublas-cu11==11.11.3.6 in ./venv/lib/python3.10/site-packages (from torch<3.0.0,>=2.0.0->torchcam) (11.11.3.6)\n",
      "Requirement already satisfied: typing-extensions>=4.10.0 in ./venv/lib/python3.10/site-packages (from torch<3.0.0,>=2.0.0->torchcam) (4.12.2)\n",
      "Requirement already satisfied: nvidia-cuda-nvrtc-cu11==11.8.89 in ./venv/lib/python3.10/site-packages (from torch<3.0.0,>=2.0.0->torchcam) (11.8.89)\n",
      "Requirement already satisfied: triton==3.3.1 in ./venv/lib/python3.10/site-packages (from torch<3.0.0,>=2.0.0->torchcam) (3.3.1)\n",
      "Requirement already satisfied: fsspec in ./venv/lib/python3.10/site-packages (from torch<3.0.0,>=2.0.0->torchcam) (2024.6.1)\n",
      "Requirement already satisfied: filelock in ./venv/lib/python3.10/site-packages (from torch<3.0.0,>=2.0.0->torchcam) (3.13.1)\n",
      "Requirement already satisfied: jinja2 in ./venv/lib/python3.10/site-packages (from torch<3.0.0,>=2.0.0->torchcam) (3.1.4)\n",
      "Requirement already satisfied: nvidia-cudnn-cu11==9.1.0.70 in ./venv/lib/python3.10/site-packages (from torch<3.0.0,>=2.0.0->torchcam) (9.1.0.70)\n",
      "Requirement already satisfied: nvidia-cusolver-cu11==11.4.1.48 in ./venv/lib/python3.10/site-packages (from torch<3.0.0,>=2.0.0->torchcam) (11.4.1.48)\n",
      "Requirement already satisfied: nvidia-curand-cu11==10.3.0.86 in ./venv/lib/python3.10/site-packages (from torch<3.0.0,>=2.0.0->torchcam) (10.3.0.86)\n",
      "Requirement already satisfied: nvidia-nvtx-cu11==11.8.86 in ./venv/lib/python3.10/site-packages (from torch<3.0.0,>=2.0.0->torchcam) (11.8.86)\n",
      "Requirement already satisfied: nvidia-nccl-cu11==2.21.5 in ./venv/lib/python3.10/site-packages (from torch<3.0.0,>=2.0.0->torchcam) (2.21.5)\n",
      "Requirement already satisfied: nvidia-cufft-cu11==10.9.0.58 in ./venv/lib/python3.10/site-packages (from torch<3.0.0,>=2.0.0->torchcam) (10.9.0.58)\n",
      "Requirement already satisfied: setuptools>=40.8.0 in ./venv/lib/python3.10/site-packages (from triton==3.3.1->torch<3.0.0,>=2.0.0->torchcam) (59.6.0)\n",
      "Requirement already satisfied: six>=1.5 in ./venv/lib/python3.10/site-packages (from python-dateutil>=2.7->matplotlib<4.0.0,>=3.7.0->torchcam) (1.17.0)\n",
      "Requirement already satisfied: mpmath<1.4,>=1.1.0 in ./venv/lib/python3.10/site-packages (from sympy>=1.13.3->torch<3.0.0,>=2.0.0->torchcam) (1.3.0)\n",
      "Requirement already satisfied: MarkupSafe>=2.0 in ./venv/lib/python3.10/site-packages (from jinja2->torch<3.0.0,>=2.0.0->torchcam) (2.1.5)\n",
      "Installing collected packages: numpy, torchcam\n",
      "  Attempting uninstall: numpy\n",
      "    Found existing installation: numpy 2.1.2\n",
      "    Uninstalling numpy-2.1.2:\n",
      "      Successfully uninstalled numpy-2.1.2\n",
      "Successfully installed numpy-1.26.4 torchcam-0.4.0\n",
      "Note: you may need to restart the kernel to use updated packages.\n"
     ]
    }
   ],
   "source": [
    "%pip install torchcam"
   ]
  }
 ],
 "metadata": {
  "kernelspec": {
   "display_name": "venv",
   "language": "python",
   "name": "python3"
  },
  "language_info": {
   "codemirror_mode": {
    "name": "ipython",
    "version": 3
   },
   "file_extension": ".py",
   "mimetype": "text/x-python",
   "name": "python",
   "nbconvert_exporter": "python",
   "pygments_lexer": "ipython3",
   "version": "3.10.12"
  }
 },
 "nbformat": 4,
 "nbformat_minor": 5
}
